{
 "cells": [
  {
   "cell_type": "markdown",
   "metadata": {},
   "source": [
    "### Create the list of mix element by asking user to enter the values. Segregate the mixed data type list into two different list"
   ]
  },
  {
   "cell_type": "code",
   "execution_count": 2,
   "metadata": {},
   "outputs": [
    {
     "name": "stdout",
     "output_type": "stream",
     "text": [
      "Mixed list: ['12', 'abc', 'xyz', '2050', '96']\n",
      "String list: ['abc', 'xyz']\n",
      "Integer list: [12, 2050, 96]\n"
     ]
    }
   ],
   "source": [
    "mixed_list = input(\"Enter values separated by space: \").split() \n",
    "\n",
    "string_list = [item for item in mixed_list if not item.isdigit()] \n",
    "int_list = [int(item) for item in mixed_list if item.isdigit()] \n",
    "\n",
    "\n",
    "print(\"Mixed list:\", mixed_list) \n",
    "print(\"String list:\", string_list) \n",
    "print(\"Integer list:\",int_list)"
   ]
  },
  {
   "cell_type": "code",
   "execution_count": null,
   "metadata": {},
   "outputs": [],
   "source": []
  }
 ],
 "metadata": {
  "kernelspec": {
   "display_name": "Python 3",
   "language": "python",
   "name": "python3"
  },
  "language_info": {
   "codemirror_mode": {
    "name": "ipython",
    "version": 3
   },
   "file_extension": ".py",
   "mimetype": "text/x-python",
   "name": "python",
   "nbconvert_exporter": "python",
   "pygments_lexer": "ipython3",
   "version": "3.13.1"
  }
 },
 "nbformat": 4,
 "nbformat_minor": 2
}
