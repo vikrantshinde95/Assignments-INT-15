{
 "cells": [
  {
   "cell_type": "code",
   "execution_count": null,
   "metadata": {},
   "outputs": [],
   "source": []
  },
  {
   "cell_type": "code",
   "execution_count": 14,
   "metadata": {},
   "outputs": [],
   "source": [
    "def bookTicket(self,source,destination):\n",
    "        valid_cities = [\"Pune\", \"Mumbai\", \"Delhi\", \"Chennai\", \"Bangalore\"]\n",
    "        self.source = input(\"Enter your source: \").title()\n",
    "        self.destination = input(\"Enter your destination: \").title()\n",
    "\n",
    "        print(self.source.isalpha())\n",
    "        # try: \n",
    "            \n",
    "        #     if self.source in valid_cities and self.destination in valid_cities:\n",
    "        #              print( f\"Ticket confirmed from {self.source} to {self.destination}\" )\n",
    "        #     else: \n",
    "        #          raise ValueError(\"Source and destination must be valid city names\")\n",
    "        \n",
    "        # except Exception as e: \n",
    "        #     print(e)"
   ]
  },
  {
   "cell_type": "code",
   "execution_count": 16,
   "metadata": {},
   "outputs": [
    {
     "ename": "TypeError",
     "evalue": "bookTicket() missing 3 required positional arguments: 'self', 'source', and 'destination'",
     "output_type": "error",
     "traceback": [
      "\u001b[1;31m---------------------------------------------------------------------------\u001b[0m",
      "\u001b[1;31mTypeError\u001b[0m                                 Traceback (most recent call last)",
      "Cell \u001b[1;32mIn[16], line 1\u001b[0m\n\u001b[1;32m----> 1\u001b[0m b\u001b[38;5;241m=\u001b[39m\u001b[43mbookTicket\u001b[49m\u001b[43m(\u001b[49m\u001b[43m)\u001b[49m\n\u001b[0;32m      2\u001b[0m b\n",
      "\u001b[1;31mTypeError\u001b[0m: bookTicket() missing 3 required positional arguments: 'self', 'source', and 'destination'"
     ]
    }
   ],
   "source": [
    "b=bookTicket()\n",
    "b"
   ]
  },
  {
   "cell_type": "code",
   "execution_count": 1,
   "metadata": {},
   "outputs": [],
   "source": [
    "import re\n",
    "def email():\n",
    "     while True:\n",
    "\n",
    "            \n",
    "            email_id = input(\"enter your email address : \")\n",
    "            pattern = \"^[a-z0-9.]+[\\._]?[a-z0-9]+[@]\\w+[.]\\w{2,3}$\"\n",
    "            validate_email = lambda email_id : re.search(pattern, email_id)\n",
    "\n",
    "            try:\n",
    "                if re.search(pattern, email_id):\n",
    "                    print(\"Valid email id\")\n",
    "                    print(f\"your email id : {email_id}\")\n",
    "                    break\n",
    "\n",
    "                else:\n",
    "                    print(\"Invalid email id\")\n",
    "\n",
    "            except Exception as e:\n",
    "                print(f\"error : {e}\")\n"
   ]
  },
  {
   "cell_type": "code",
   "execution_count": 2,
   "metadata": {},
   "outputs": [
    {
     "name": "stdout",
     "output_type": "stream",
     "text": [
      "Valid email id\n",
      "your email id : vicky_123@gmail.com\n"
     ]
    }
   ],
   "source": [
    "email()"
   ]
  },
  {
   "cell_type": "code",
   "execution_count": 1,
   "metadata": {},
   "outputs": [],
   "source": [
    "def bookTicket():\n",
    "        valid_cities = [\"Pune\", \"Mumbai\", \"Delhi\", \"Chennai\", \"Bangalore\"]  \n",
    "        source = input(\"Enter your source: \")\n",
    "        destination = input(\"Enter your destination: \") \n",
    "        try: \n",
    "            \n",
    "            if source in valid_cities and destination in valid_cities:\n",
    "                     print( f\"Ticket confirmed from {source.title()} to {destination.title()}\" )\n",
    "            else: \n",
    "                 raise ValueError(\"Source and destination must be valid city names\")\n",
    "        \n",
    "        except Exception as e: \n",
    "            print(e)"
   ]
  },
  {
   "cell_type": "code",
   "execution_count": 2,
   "metadata": {},
   "outputs": [
    {
     "name": "stdout",
     "output_type": "stream",
     "text": [
      "Source and destination must be valid city names\n"
     ]
    }
   ],
   "source": [
    "bookTicket()"
   ]
  },
  {
   "cell_type": "code",
   "execution_count": null,
   "metadata": {},
   "outputs": [],
   "source": []
  }
 ],
 "metadata": {
  "kernelspec": {
   "display_name": "Python 3",
   "language": "python",
   "name": "python3"
  },
  "language_info": {
   "codemirror_mode": {
    "name": "ipython",
    "version": 3
   },
   "file_extension": ".py",
   "mimetype": "text/x-python",
   "name": "python",
   "nbconvert_exporter": "python",
   "pygments_lexer": "ipython3",
   "version": "3.13.1"
  }
 },
 "nbformat": 4,
 "nbformat_minor": 2
}
