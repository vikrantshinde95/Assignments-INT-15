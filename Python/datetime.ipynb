{
 "cells": [
  {
   "cell_type": "markdown",
   "metadata": {},
   "source": [
    "### User will enter the start date and end date. Ask user to enter the task to be done on weekdays. If it is weekend then no task should be allotted."
   ]
  },
  {
   "cell_type": "code",
   "execution_count": 1,
   "metadata": {},
   "outputs": [
    {
     "name": "stdout",
     "output_type": "stream",
     "text": [
      "1990-08-11 because of Saturday task not assigned.\n",
      "1990-08-12 because of Sunday task not assigned.\n",
      "{'1990-08-08, Wednesday': 'python', '1990-08-09, Thursday': 'sql', '1990-08-10, Friday': 'php', '1990-08-13, Monday': 'pyspark', '1990-08-14, Tuesday': 'pandas', '1990-08-15, Wednesday': 'numpy'}\n"
     ]
    }
   ],
   "source": [
    "\n",
    "\n",
    "from datetime import datetime, date, time, timedelta\n",
    "\n",
    "date1 = input('Enter start date in (YYYY-MM-DD) Format:')\n",
    "date2 = input('Enter end date in (YYYY-MM-DD) Format:')\n",
    "\n",
    "all_days = []\n",
    "all_task = []\n",
    "\n",
    "try:\n",
    "    start_date = datetime.strptime(date1, '%Y-%m-%d')\n",
    "    end_date = datetime.strptime(date2, '%Y-%m-%d')\n",
    "    if start_date>end_date:\n",
    "        print('Start Date should be less than End date.')\n",
    "    else:\n",
    "        days_diff = (end_date-start_date).days\n",
    "        for i in range(days_diff + 1):\n",
    "            current_date = start_date + timedelta(days=i)\n",
    "            check_day = current_date.strftime('%A')\n",
    "            if check_day not in ['Saturday', 'Sunday']:\n",
    "        \n",
    "                all_days.append(current_date.strftime('%Y-%m-%d, %A'))\n",
    "                task = input(f'Enter task {current_date.strftime('%A, %d-%m-%Y')}')\n",
    "                all_task.append(task)\n",
    "            else:\n",
    "                print(f'{current_date.strftime('%Y-%m-%d')} because of {current_date.strftime('%A')} task not assigned.')\n",
    "\n",
    "        print(dict(zip(all_days, all_task)))\n",
    "\n",
    "except ValueError:\n",
    "    print('Date format is not correct')\n",
    "    \n"
   ]
  },
  {
   "cell_type": "code",
   "execution_count": null,
   "metadata": {},
   "outputs": [],
   "source": []
  }
 ],
 "metadata": {
  "kernelspec": {
   "display_name": "Python 3",
   "language": "python",
   "name": "python3"
  },
  "language_info": {
   "codemirror_mode": {
    "name": "ipython",
    "version": 3
   },
   "file_extension": ".py",
   "mimetype": "text/x-python",
   "name": "python",
   "nbconvert_exporter": "python",
   "pygments_lexer": "ipython3",
   "version": "3.13.1"
  }
 },
 "nbformat": 4,
 "nbformat_minor": 2
}
